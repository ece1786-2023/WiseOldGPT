{
  "nbformat": 4,
  "nbformat_minor": 0,
  "metadata": {
    "colab": {
      "provenance": []
    },
    "kernelspec": {
      "name": "python3",
      "display_name": "Python 3"
    },
    "language_info": {
      "name": "python"
    }
  },
  "cells": [
    {
      "cell_type": "code",
      "execution_count": 1,
      "metadata": {
        "colab": {
          "base_uri": "https://localhost:8080/"
        },
        "id": "DMSIMSkz-0Wk",
        "outputId": "48ff9ab7-7ad3-485e-8ddb-aa82e028b184"
      },
      "outputs": [
        {
          "output_type": "stream",
          "name": "stdout",
          "text": [
            "Requirement already satisfied: OpenAI in /usr/local/lib/python3.10/dist-packages (1.3.8)\n",
            "Requirement already satisfied: anyio<5,>=3.5.0 in /usr/local/lib/python3.10/dist-packages (from OpenAI) (3.7.1)\n",
            "Requirement already satisfied: distro<2,>=1.7.0 in /usr/lib/python3/dist-packages (from OpenAI) (1.7.0)\n",
            "Requirement already satisfied: httpx<1,>=0.23.0 in /usr/local/lib/python3.10/dist-packages (from OpenAI) (0.25.2)\n",
            "Requirement already satisfied: pydantic<3,>=1.9.0 in /usr/local/lib/python3.10/dist-packages (from OpenAI) (2.5.2)\n",
            "Requirement already satisfied: sniffio in /usr/local/lib/python3.10/dist-packages (from OpenAI) (1.3.0)\n",
            "Requirement already satisfied: tqdm>4 in /usr/local/lib/python3.10/dist-packages (from OpenAI) (4.66.1)\n",
            "Requirement already satisfied: typing-extensions<5,>=4.5 in /usr/local/lib/python3.10/dist-packages (from OpenAI) (4.9.0)\n",
            "Requirement already satisfied: idna>=2.8 in /usr/local/lib/python3.10/dist-packages (from anyio<5,>=3.5.0->OpenAI) (3.6)\n",
            "Requirement already satisfied: exceptiongroup in /usr/local/lib/python3.10/dist-packages (from anyio<5,>=3.5.0->OpenAI) (1.2.0)\n",
            "Requirement already satisfied: certifi in /usr/local/lib/python3.10/dist-packages (from httpx<1,>=0.23.0->OpenAI) (2023.11.17)\n",
            "Requirement already satisfied: httpcore==1.* in /usr/local/lib/python3.10/dist-packages (from httpx<1,>=0.23.0->OpenAI) (1.0.2)\n",
            "Requirement already satisfied: h11<0.15,>=0.13 in /usr/local/lib/python3.10/dist-packages (from httpcore==1.*->httpx<1,>=0.23.0->OpenAI) (0.14.0)\n",
            "Requirement already satisfied: annotated-types>=0.4.0 in /usr/local/lib/python3.10/dist-packages (from pydantic<3,>=1.9.0->OpenAI) (0.6.0)\n",
            "Requirement already satisfied: pydantic-core==2.14.5 in /usr/local/lib/python3.10/dist-packages (from pydantic<3,>=1.9.0->OpenAI) (2.14.5)\n",
            "Requirement already satisfied: gradio in /usr/local/lib/python3.10/dist-packages (4.8.0)\n",
            "Requirement already satisfied: aiofiles<24.0,>=22.0 in /usr/local/lib/python3.10/dist-packages (from gradio) (23.2.1)\n",
            "Requirement already satisfied: altair<6.0,>=4.2.0 in /usr/local/lib/python3.10/dist-packages (from gradio) (4.2.2)\n",
            "Requirement already satisfied: fastapi in /usr/local/lib/python3.10/dist-packages (from gradio) (0.104.1)\n",
            "Requirement already satisfied: ffmpy in /usr/local/lib/python3.10/dist-packages (from gradio) (0.3.1)\n",
            "Requirement already satisfied: gradio-client==0.7.1 in /usr/local/lib/python3.10/dist-packages (from gradio) (0.7.1)\n",
            "Requirement already satisfied: httpx in /usr/local/lib/python3.10/dist-packages (from gradio) (0.25.2)\n",
            "Requirement already satisfied: huggingface-hub>=0.14.0 in /usr/local/lib/python3.10/dist-packages (from gradio) (0.19.4)\n",
            "Requirement already satisfied: importlib-resources<7.0,>=1.3 in /usr/local/lib/python3.10/dist-packages (from gradio) (6.1.1)\n",
            "Requirement already satisfied: jinja2<4.0 in /usr/local/lib/python3.10/dist-packages (from gradio) (3.1.2)\n",
            "Requirement already satisfied: markupsafe~=2.0 in /usr/local/lib/python3.10/dist-packages (from gradio) (2.1.3)\n",
            "Requirement already satisfied: matplotlib~=3.0 in /usr/local/lib/python3.10/dist-packages (from gradio) (3.7.1)\n",
            "Requirement already satisfied: numpy~=1.0 in /usr/local/lib/python3.10/dist-packages (from gradio) (1.23.5)\n",
            "Requirement already satisfied: orjson~=3.0 in /usr/local/lib/python3.10/dist-packages (from gradio) (3.9.10)\n",
            "Requirement already satisfied: packaging in /usr/local/lib/python3.10/dist-packages (from gradio) (23.2)\n",
            "Requirement already satisfied: pandas<3.0,>=1.0 in /usr/local/lib/python3.10/dist-packages (from gradio) (1.5.3)\n",
            "Requirement already satisfied: pillow<11.0,>=8.0 in /usr/local/lib/python3.10/dist-packages (from gradio) (9.4.0)\n",
            "Requirement already satisfied: pydantic>=2.0 in /usr/local/lib/python3.10/dist-packages (from gradio) (2.5.2)\n",
            "Requirement already satisfied: pydub in /usr/local/lib/python3.10/dist-packages (from gradio) (0.25.1)\n",
            "Requirement already satisfied: python-multipart in /usr/local/lib/python3.10/dist-packages (from gradio) (0.0.6)\n",
            "Requirement already satisfied: pyyaml<7.0,>=5.0 in /usr/local/lib/python3.10/dist-packages (from gradio) (6.0.1)\n",
            "Requirement already satisfied: requests~=2.0 in /usr/local/lib/python3.10/dist-packages (from gradio) (2.31.0)\n",
            "Requirement already satisfied: semantic-version~=2.0 in /usr/local/lib/python3.10/dist-packages (from gradio) (2.10.0)\n",
            "Requirement already satisfied: tomlkit==0.12.0 in /usr/local/lib/python3.10/dist-packages (from gradio) (0.12.0)\n",
            "Requirement already satisfied: typer[all]<1.0,>=0.9 in /usr/local/lib/python3.10/dist-packages (from gradio) (0.9.0)\n",
            "Requirement already satisfied: typing-extensions~=4.0 in /usr/local/lib/python3.10/dist-packages (from gradio) (4.9.0)\n",
            "Requirement already satisfied: uvicorn>=0.14.0 in /usr/local/lib/python3.10/dist-packages (from gradio) (0.24.0.post1)\n",
            "Requirement already satisfied: fsspec in /usr/local/lib/python3.10/dist-packages (from gradio-client==0.7.1->gradio) (2023.6.0)\n",
            "Requirement already satisfied: websockets<12.0,>=10.0 in /usr/local/lib/python3.10/dist-packages (from gradio-client==0.7.1->gradio) (11.0.3)\n",
            "Requirement already satisfied: entrypoints in /usr/local/lib/python3.10/dist-packages (from altair<6.0,>=4.2.0->gradio) (0.4)\n",
            "Requirement already satisfied: jsonschema>=3.0 in /usr/local/lib/python3.10/dist-packages (from altair<6.0,>=4.2.0->gradio) (4.19.2)\n",
            "Requirement already satisfied: toolz in /usr/local/lib/python3.10/dist-packages (from altair<6.0,>=4.2.0->gradio) (0.12.0)\n",
            "Requirement already satisfied: filelock in /usr/local/lib/python3.10/dist-packages (from huggingface-hub>=0.14.0->gradio) (3.13.1)\n",
            "Requirement already satisfied: tqdm>=4.42.1 in /usr/local/lib/python3.10/dist-packages (from huggingface-hub>=0.14.0->gradio) (4.66.1)\n",
            "Requirement already satisfied: contourpy>=1.0.1 in /usr/local/lib/python3.10/dist-packages (from matplotlib~=3.0->gradio) (1.2.0)\n",
            "Requirement already satisfied: cycler>=0.10 in /usr/local/lib/python3.10/dist-packages (from matplotlib~=3.0->gradio) (0.12.1)\n",
            "Requirement already satisfied: fonttools>=4.22.0 in /usr/local/lib/python3.10/dist-packages (from matplotlib~=3.0->gradio) (4.46.0)\n",
            "Requirement already satisfied: kiwisolver>=1.0.1 in /usr/local/lib/python3.10/dist-packages (from matplotlib~=3.0->gradio) (1.4.5)\n",
            "Requirement already satisfied: pyparsing>=2.3.1 in /usr/local/lib/python3.10/dist-packages (from matplotlib~=3.0->gradio) (3.1.1)\n",
            "Requirement already satisfied: python-dateutil>=2.7 in /usr/local/lib/python3.10/dist-packages (from matplotlib~=3.0->gradio) (2.8.2)\n",
            "Requirement already satisfied: pytz>=2020.1 in /usr/local/lib/python3.10/dist-packages (from pandas<3.0,>=1.0->gradio) (2023.3.post1)\n",
            "Requirement already satisfied: annotated-types>=0.4.0 in /usr/local/lib/python3.10/dist-packages (from pydantic>=2.0->gradio) (0.6.0)\n",
            "Requirement already satisfied: pydantic-core==2.14.5 in /usr/local/lib/python3.10/dist-packages (from pydantic>=2.0->gradio) (2.14.5)\n",
            "Requirement already satisfied: charset-normalizer<4,>=2 in /usr/local/lib/python3.10/dist-packages (from requests~=2.0->gradio) (3.3.2)\n",
            "Requirement already satisfied: idna<4,>=2.5 in /usr/local/lib/python3.10/dist-packages (from requests~=2.0->gradio) (3.6)\n",
            "Requirement already satisfied: urllib3<3,>=1.21.1 in /usr/local/lib/python3.10/dist-packages (from requests~=2.0->gradio) (2.0.7)\n",
            "Requirement already satisfied: certifi>=2017.4.17 in /usr/local/lib/python3.10/dist-packages (from requests~=2.0->gradio) (2023.11.17)\n",
            "Requirement already satisfied: click<9.0.0,>=7.1.1 in /usr/local/lib/python3.10/dist-packages (from typer[all]<1.0,>=0.9->gradio) (8.1.7)\n",
            "Requirement already satisfied: colorama<0.5.0,>=0.4.3 in /usr/local/lib/python3.10/dist-packages (from typer[all]<1.0,>=0.9->gradio) (0.4.6)\n",
            "Requirement already satisfied: shellingham<2.0.0,>=1.3.0 in /usr/local/lib/python3.10/dist-packages (from typer[all]<1.0,>=0.9->gradio) (1.5.4)\n",
            "Requirement already satisfied: rich<14.0.0,>=10.11.0 in /usr/local/lib/python3.10/dist-packages (from typer[all]<1.0,>=0.9->gradio) (13.7.0)\n",
            "Requirement already satisfied: h11>=0.8 in /usr/local/lib/python3.10/dist-packages (from uvicorn>=0.14.0->gradio) (0.14.0)\n",
            "Requirement already satisfied: anyio<4.0.0,>=3.7.1 in /usr/local/lib/python3.10/dist-packages (from fastapi->gradio) (3.7.1)\n",
            "Requirement already satisfied: starlette<0.28.0,>=0.27.0 in /usr/local/lib/python3.10/dist-packages (from fastapi->gradio) (0.27.0)\n",
            "Requirement already satisfied: httpcore==1.* in /usr/local/lib/python3.10/dist-packages (from httpx->gradio) (1.0.2)\n",
            "Requirement already satisfied: sniffio in /usr/local/lib/python3.10/dist-packages (from httpx->gradio) (1.3.0)\n",
            "Requirement already satisfied: exceptiongroup in /usr/local/lib/python3.10/dist-packages (from anyio<4.0.0,>=3.7.1->fastapi->gradio) (1.2.0)\n",
            "Requirement already satisfied: attrs>=22.2.0 in /usr/local/lib/python3.10/dist-packages (from jsonschema>=3.0->altair<6.0,>=4.2.0->gradio) (23.1.0)\n",
            "Requirement already satisfied: jsonschema-specifications>=2023.03.6 in /usr/local/lib/python3.10/dist-packages (from jsonschema>=3.0->altair<6.0,>=4.2.0->gradio) (2023.11.2)\n",
            "Requirement already satisfied: referencing>=0.28.4 in /usr/local/lib/python3.10/dist-packages (from jsonschema>=3.0->altair<6.0,>=4.2.0->gradio) (0.31.1)\n",
            "Requirement already satisfied: rpds-py>=0.7.1 in /usr/local/lib/python3.10/dist-packages (from jsonschema>=3.0->altair<6.0,>=4.2.0->gradio) (0.13.2)\n",
            "Requirement already satisfied: six>=1.5 in /usr/local/lib/python3.10/dist-packages (from python-dateutil>=2.7->matplotlib~=3.0->gradio) (1.16.0)\n",
            "Requirement already satisfied: markdown-it-py>=2.2.0 in /usr/local/lib/python3.10/dist-packages (from rich<14.0.0,>=10.11.0->typer[all]<1.0,>=0.9->gradio) (3.0.0)\n",
            "Requirement already satisfied: pygments<3.0.0,>=2.13.0 in /usr/local/lib/python3.10/dist-packages (from rich<14.0.0,>=10.11.0->typer[all]<1.0,>=0.9->gradio) (2.16.1)\n",
            "Requirement already satisfied: mdurl~=0.1 in /usr/local/lib/python3.10/dist-packages (from markdown-it-py>=2.2.0->rich<14.0.0,>=10.11.0->typer[all]<1.0,>=0.9->gradio) (0.1.2)\n"
          ]
        }
      ],
      "source": [
        "!pip install OpenAI\n",
        "!pip install --upgrade gradio"
      ]
    },
    {
      "cell_type": "code",
      "source": [
        "import gradio as gr"
      ],
      "metadata": {
        "id": "C4egVKpD-6d-"
      },
      "execution_count": 2,
      "outputs": []
    },
    {
      "cell_type": "code",
      "source": [
        "def check_answer_correctness(answer,question):\n",
        "    # Use GPT-4 to check the correctness of the answer\n",
        "    response = client.chat.completions.create(\n",
        "        model=\"gpt-4\",\n",
        "        messages=[\n",
        "      {\n",
        "        \"role\": \"system\",\n",
        "        \"content\": f\"As a friendly chatbot designed to help school-age children, whose age are between 8(eight) and 17(sixteen) \"\n",
        "        f\"I want to ensure accurate information. Can you confirm if the response to the following question is correct?\\n\\n\"\n",
        "        f\"Question: \\\"{question}\\\"\\n\\n\"  f\"Answer: \\\"{answer}\\\"\\n\\n\"\n",
        "        \"for example for the age of child, their parents should enter a digit between 8, and 17, for example if they enter 12, this answer is correct,otherwise, the answer is incorrect if the anwser is not digit or is a number out of thiis range, another example is 'What is your child's gender?' the answer to this question can be female, male , girl, boy, man , woman, and so on , and it cannot be yellow for instance or for the traits, it should say, she/he is generous, kiind and sth like this. They should not say, she is upset for example\\n\"\n",
        "        \"Please respond with '1' if the answer is correct and matches the question or '0' if it needs correction without any explanation\"\n",
        "     },\n",
        "      {\n",
        "        \"role\": \"user\",\n",
        "        \"content\": answer\n",
        "      }\n",
        "      ],\n",
        "        temperature=1,\n",
        "        max_tokens=256,\n",
        "        top_p=1,\n",
        "        frequency_penalty=0,\n",
        "        presence_penalty=0\n",
        "    )\n",
        "    # Extract the generated response\n",
        "    generated_response = response.choices[0].message.content\n",
        "    return generated_response.lower()"
      ],
      "metadata": {
        "id": "XMPxleulE4Hw"
      },
      "execution_count": 3,
      "outputs": []
    },
    {
      "cell_type": "code",
      "source": [
        "def question(number):\n",
        " questions = [\n",
        "        \"What is your child's name?\",\n",
        "        \"How old is your child?\",\n",
        "        \"What is your child's gender?\",\n",
        "        \"How would you describe your child's personality traits?\",\n",
        "              ]\n",
        " return questions[number]"
      ],
      "metadata": {
        "id": "O3pK9mS5_MRk"
      },
      "execution_count": 4,
      "outputs": []
    },
    {
      "cell_type": "code",
      "source": [
        "global counter"
      ],
      "metadata": {
        "id": "y917c4dOGYux"
      },
      "execution_count": 5,
      "outputs": []
    },
    {
      "cell_type": "code",
      "source": [
        "def counter(counter):\n",
        "      counter = counter + 1\n",
        "      return counter"
      ],
      "metadata": {
        "id": "9W4AFCZ5AQh1"
      },
      "execution_count": 6,
      "outputs": []
    },
    {
      "cell_type": "code",
      "source": [
        "chatHistory = []"
      ],
      "metadata": {
        "id": "tlFSUI0CLKIf"
      },
      "execution_count": 7,
      "outputs": []
    },
    {
      "cell_type": "code",
      "source": [
        "questions = [\n",
        "    \"What is your child's name?\",\n",
        "    \"How old is your child?\",\n",
        "    \"What is your child's gender?\",\n",
        "    \"How would you describe your child's personality traits?\",\n",
        "    \"Do you want to edit some information?\"\n",
        "]\n",
        "\n",
        "from openai import OpenAI\n",
        "import time\n",
        "from google.colab import userdata\n",
        "\n",
        "client = OpenAI(api_key=userdata.get('OPENAI_API_KEY'))\n",
        "\n",
        "def check_answer_correctness2(answer):\n",
        "    response = client.chat.completions.create(\n",
        "        model=\"gpt-4\",\n",
        "        messages=[\n",
        "            {\n",
        "                \"role\": \"system\",\n",
        "                \"content\": \"As a friendly chatbot designed to help school-age children, whose age ranges between 8 and 17, \"\n",
        "                \"The system should determine the index of the question based on parents as a digit \\n\\n\"\n",
        "                \"Question: \\\"Enter the index of the part you would like to edit from this category:{ '1' or '2', or '3', or '4'}\\\"\\n\\n\"\n",
        "                f\"Answer: {answer}\\\\n\\n\"\n",
        "                \"For example, if the parent writes 'child name' or 'What is child's name' or '1', the prompt should be just '1'.\\n \"\n",
        "                \"If the parent writes an expression about the child's age or  enter '2', the prompt should be just '2'. \\n\"\n",
        "                \"If the parent answers 'What is your child's gender?' or anything related to this concept or '3', the prompt should be just'3'. \\n\"\n",
        "                \"If the parent asks about 'How would you describe your child's personality traits?' or anything related to characteristics of their child or '4', Note that the prompt should be just '4'.\\n\"\n",
        "            },\n",
        "            {\n",
        "                \"role\": \"user\",\n",
        "                \"content\": answer\n",
        "            }\n",
        "        ],\n",
        "        temperature=1,\n",
        "        max_tokens=256,\n",
        "        top_p=1,\n",
        "        frequency_penalty=0,\n",
        "        presence_penalty=0\n",
        "    )\n",
        "    generated_response = response.choices[0].message.content\n",
        "    part_to_edit_index = int(generated_response)\n",
        "    return part_to_edit_index\n",
        "\n",
        "\n",
        "def check_answer_correctness(question, answer):\n",
        "    response = client.chat.completions.create(\n",
        "        model=\"gpt-4\",\n",
        "        messages=[\n",
        "            {\n",
        "                \"role\": \"system\",\n",
        "                \"content\": f\"As a friendly chatbot designed to help school-age children, whose age are between 8(eight) and 18(eighteen) \"\n",
        "                            f\"I want to ensure accurate information. Can you confirm if the response to the following question is correct?\\n\\n\"\n",
        "                            f\"Question: \\\"{question}\\\"\\n\\n\" f\"Answer: \\\"{answer}\\\"\\n\\n\"\n",
        "                            \"for example for the age of child, their parents should enter a digit between 8, and 18, otherwise, the answer is incorrect, another example is 'What is your child's gender?' the answer to this question can be female, male , girl, boy, man , woman, and so on , and it cannot be yellow for instance\\n\"\n",
        "                            \"for the questions 'How would you describe your child s personality traits?' the answer should be sth like this, like She is generous, but if the user said she is upset, this answer cannot be a correct answer since 'upset' is not a trait  or if it asks Do you want to edit information and the answer is yes return '1', and otherwise return '0'.\"\n",
        "                            f\"Please respond with '1' if the answer is correct or '0' if it needs correction without any explanation\"\n",
        "            },\n",
        "            {\n",
        "                \"role\": \"user\",\n",
        "                \"content\": answer\n",
        "            }\n",
        "        ],\n",
        "        temperature=1,\n",
        "        max_tokens=256,\n",
        "        top_p=1,\n",
        "        frequency_penalty=0,\n",
        "        presence_penalty=0\n",
        "    )\n",
        "    generated_response = response.choices[0].message.content\n",
        "    return generated_response.lower()\n",
        "\n",
        "chatHistory = []\n",
        "counter = 0\n",
        "index = 0\n",
        "List = []\n",
        "j = 0\n",
        "edit_mode = False\n",
        "counter0=0\n",
        "flag=0\n",
        "counter1=0\n",
        "part_to_edit=''\n",
        "async def manageConversation(sentence, history):\n",
        "    global counter\n",
        "    global index\n",
        "    global List\n",
        "    global j\n",
        "    global edit_mode\n",
        "    global counter0\n",
        "    global part_to_edit\n",
        "    chatHistory.append({\n",
        "        \"role\": \"user\",\n",
        "        \"content\": sentence\n",
        "    })\n",
        "\n",
        "    while chatHistory[index]['content'] != \"1234\":\n",
        "        index = index + 1\n",
        "        return \"Your Password is incorrect..., Enter your password again!\"\n",
        "\n",
        "    if chatHistory[index]['content'] == \"1234\":\n",
        "        if not edit_mode:\n",
        "            if counter == 0:\n",
        "                text = questions[counter]\n",
        "                counter += 1\n",
        "                return text\n",
        "            elif 1 <= counter <= 4:\n",
        "                if check_answer_correctness(questions[counter - 1], chatHistory[counter + index + j]['content']) == '1':\n",
        "                    List.append(chatHistory[counter + index + j]['content'])\n",
        "                    text = questions[counter]\n",
        "                    counter += 1\n",
        "                    return text\n",
        "                elif check_answer_correctness(questions[counter - 1], chatHistory[counter + index + j]['content']) == '0':\n",
        "                    j = j + 1\n",
        "                    return \"Your answer seems incorrect. Please try again and answer correctly...\" + questions[counter - 1]\n",
        "            elif counter > 4 and sentence.lower() == \"yes\":\n",
        "                edit_mode = True\n",
        "                return \"Enter the the part you would like to edit from the information\"\n",
        "            elif counter > 4 and sentence.lower() == \"no\":\n",
        "                return \"Thank you\"\n",
        "\n",
        "    if edit_mode:\n",
        "        if part_to_edit=='':\n",
        "           counter += 1\n",
        "        # Ask which part to edit\n",
        "           part_to_edit = check_answer_correctness2(chatHistory[counter + index + j]['content'])\n",
        "\n",
        "        # Get the updated information\n",
        "           text=questions[int(part_to_edit)-1]\n",
        "           return text\n",
        "        # Check correctness using GPT-4\n",
        "        else:\n",
        "           counter += 1\n",
        "           check = check_answer_correctness( questions[int(part_to_edit)-1],chatHistory[counter + index + j]['content'])\n",
        "           if check == '0' and chatHistory[counter + index + j]['content'].lower()!='no' and chatHistory[counter + index + j]['content'].lower()!='yes':\n",
        "              return \"Your answer seems incorrect!! Enter the answer again\"\n",
        "           elif check=='1':\n",
        "              List[int(part_to_edit)-1]=chatHistory[counter + index + j]['content']\n",
        "        # Update the collected information\n",
        "              return \"Thanks. Would you like to edit any part? (yes/no): \"\n",
        "           elif chatHistory[counter + index + j]['content'].lower()=='yes':\n",
        "              part_to_edit=''\n",
        "              return \"Enter the the part you would like to edit from the information\"\n",
        "           elif chatHistory[counter + index + j]['content'].lower()=='no':\n",
        "              return \"Thank you\"\n",
        "iface = gr.ChatInterface(\n",
        "    manageConversation,\n",
        "    chatbot=gr.Chatbot(height=300),\n",
        "    textbox=gr.Textbox(placeholder=\"How can I help you, \" + '?', container=False, scale=7),\n",
        "    title=\"WiseOldGPT\",\n",
        "    description=\"Ask me any question\",\n",
        "    theme=\"soft\",\n",
        "    examples=[\"Can you help me with my science project?\", \"I don't know why Mom doesn't buy me the car!\", \"Today was amazing!\"],\n",
        "    cache_examples=False,\n",
        "    retry_btn=\"Retry\",\n",
        "    undo_btn=\"Delete Previous\",\n",
        "    clear_btn=\"Clear\",\n",
        ")\n",
        "\n",
        "iface.launch(debug=True)\n"
      ],
      "metadata": {
        "colab": {
          "base_uri": "https://localhost:8080/",
          "height": 719
        },
        "id": "NMOgbfHM-8r1",
        "outputId": "5837a7a4-d279-4a86-cac7-53fb04c49463"
      },
      "execution_count": 26,
      "outputs": [
        {
          "output_type": "stream",
          "name": "stdout",
          "text": [
            "\n",
            "Thanks for being a Gradio user! If you have questions or feedback, please join our Discord server and chat with us: https://discord.gg/feTf9x3ZSB\n",
            "Setting queue=True in a Colab notebook requires sharing enabled. Setting `share=True` (you can turn this off by setting `share=False` in `launch()` explicitly).\n",
            "\n",
            "Colab notebook detected. This cell will run indefinitely so that you can see errors and logs. To turn off, set debug=False in launch().\n",
            "Running on public URL: https://b13283557125b9bd4a.gradio.live\n",
            "\n",
            "This share link expires in 72 hours. For free permanent hosting and GPU upgrades, run `gradio deploy` from Terminal to deploy to Spaces (https://huggingface.co/spaces)\n"
          ]
        },
        {
          "output_type": "display_data",
          "data": {
            "text/plain": [
              "<IPython.core.display.HTML object>"
            ],
            "text/html": [
              "<div><iframe src=\"https://b13283557125b9bd4a.gradio.live\" width=\"100%\" height=\"500\" allow=\"autoplay; camera; microphone; clipboard-read; clipboard-write;\" frameborder=\"0\" allowfullscreen></iframe></div>"
            ]
          },
          "metadata": {}
        },
        {
          "output_type": "stream",
          "name": "stdout",
          "text": [
            "Keyboard interruption in main thread... closing server.\n",
            "Killing tunnel 127.0.0.1:7860 <> https://b13283557125b9bd4a.gradio.live\n"
          ]
        },
        {
          "output_type": "execute_result",
          "data": {
            "text/plain": []
          },
          "metadata": {},
          "execution_count": 26
        }
      ]
    },
    {
      "cell_type": "code",
      "source": [
        "List"
      ],
      "metadata": {
        "colab": {
          "base_uri": "https://localhost:8080/"
        },
        "id": "W_Z1Jai4hI_e",
        "outputId": "338dcbd3-f818-483f-9366-0d88953a6083"
      },
      "execution_count": 27,
      "outputs": [
        {
          "output_type": "execute_result",
          "data": {
            "text/plain": [
              "['Zahra', '12', 'female', 'She is so kind and honest']"
            ]
          },
          "metadata": {},
          "execution_count": 27
        }
      ]
    },
    {
      "cell_type": "code",
      "source": [
        "if 0 <= counter <= 3 and counter0 > 4 and sentence.lower() != \"yes\" and sentence.lower() != \"no\":\n",
        "  print('1')\n",
        "else:\n",
        "  print('0')"
      ],
      "metadata": {
        "colab": {
          "base_uri": "https://localhost:8080/"
        },
        "id": "3zK7ojApt2Ih",
        "outputId": "28c3757a-8513-4f05-b8ae-29ae4f5c2274"
      },
      "execution_count": 10,
      "outputs": [
        {
          "output_type": "stream",
          "name": "stdout",
          "text": [
            "0\n"
          ]
        }
      ]
    },
    {
      "cell_type": "code",
      "source": [
        "sentence='female'"
      ],
      "metadata": {
        "id": "Y2s-Y9extuR9"
      },
      "execution_count": 11,
      "outputs": []
    },
    {
      "cell_type": "code",
      "source": [
        "check_answer_correctness(questions[counter], chatHistory[counter0 + index + j+1]['content']) == '1'"
      ],
      "metadata": {
        "colab": {
          "base_uri": "https://localhost:8080/",
          "height": 179
        },
        "id": "Fy6UeJYeg2Dl",
        "outputId": "ce5de683-8948-4b64-e5e7-b2c67ee8fe39"
      },
      "execution_count": 12,
      "outputs": [
        {
          "output_type": "error",
          "ename": "IndexError",
          "evalue": "ignored",
          "traceback": [
            "\u001b[0;31m---------------------------------------------------------------------------\u001b[0m",
            "\u001b[0;31mIndexError\u001b[0m                                Traceback (most recent call last)",
            "\u001b[0;32m<ipython-input-12-25d1a7fbc32b>\u001b[0m in \u001b[0;36m<cell line: 1>\u001b[0;34m()\u001b[0m\n\u001b[0;32m----> 1\u001b[0;31m \u001b[0mcheck_answer_correctness\u001b[0m\u001b[0;34m(\u001b[0m\u001b[0mquestions\u001b[0m\u001b[0;34m[\u001b[0m\u001b[0mcounter\u001b[0m\u001b[0;34m]\u001b[0m\u001b[0;34m,\u001b[0m \u001b[0mchatHistory\u001b[0m\u001b[0;34m[\u001b[0m\u001b[0mcounter0\u001b[0m \u001b[0;34m+\u001b[0m \u001b[0mindex\u001b[0m \u001b[0;34m+\u001b[0m \u001b[0mj\u001b[0m\u001b[0;34m+\u001b[0m\u001b[0;36m1\u001b[0m\u001b[0;34m]\u001b[0m\u001b[0;34m[\u001b[0m\u001b[0;34m'content'\u001b[0m\u001b[0;34m]\u001b[0m\u001b[0;34m)\u001b[0m \u001b[0;34m==\u001b[0m \u001b[0;34m'1'\u001b[0m\u001b[0;34m\u001b[0m\u001b[0;34m\u001b[0m\u001b[0m\n\u001b[0m",
            "\u001b[0;31mIndexError\u001b[0m: list index out of range"
          ]
        }
      ]
    },
    {
      "cell_type": "code",
      "source": [
        "questions[counter],chatHistory[counter0 + index + j+1]['content']"
      ],
      "metadata": {
        "id": "acxJ3E6uYepi"
      },
      "execution_count": null,
      "outputs": []
    },
    {
      "cell_type": "code",
      "source": [
        "check_answer_correctness(questions[counter], chatHistory[counter0 + index + j+1]['content'])"
      ],
      "metadata": {
        "id": "xUIMqRNE2CyL"
      },
      "execution_count": null,
      "outputs": []
    },
    {
      "cell_type": "code",
      "source": [
        "chatHistory,j,index,counter0,j+index+counter0,chatHistory[j+index+counter0+1],List\n"
      ],
      "metadata": {
        "id": "MTczJxGNK-xv"
      },
      "execution_count": null,
      "outputs": []
    },
    {
      "cell_type": "code",
      "source": [
        "edit_mode"
      ],
      "metadata": {
        "id": "4xuiRLGNq9ac"
      },
      "execution_count": null,
      "outputs": []
    },
    {
      "cell_type": "code",
      "source": [
        "questions[counter-1]"
      ],
      "metadata": {
        "id": "RHTGE07osze6"
      },
      "execution_count": null,
      "outputs": []
    },
    {
      "cell_type": "code",
      "source": [
        "check_answer_correctness(questions[counter], chatHistory[counter0 + index+j+1]['content'])"
      ],
      "metadata": {
        "id": "jrunOtoms7Kz"
      },
      "execution_count": null,
      "outputs": []
    },
    {
      "cell_type": "code",
      "source": [
        "questions[counter-1]"
      ],
      "metadata": {
        "id": "b8yLCKjQZeUF"
      },
      "execution_count": null,
      "outputs": []
    },
    {
      "cell_type": "code",
      "source": [
        "chatHistory[counter0 + index+j+1]['content']"
      ],
      "metadata": {
        "id": "k0FfgIiGZs1r"
      },
      "execution_count": null,
      "outputs": []
    },
    {
      "cell_type": "code",
      "source": [
        "counter"
      ],
      "metadata": {
        "id": "zc_oEwkyZjy0"
      },
      "execution_count": null,
      "outputs": []
    },
    {
      "cell_type": "code",
      "source": [
        "def List_collect(chatHistory,counter,index):\n",
        "   List.append(chatHistory[counter+index]['content'])\n",
        "   return List[1:-1]"
      ],
      "metadata": {
        "id": "Zgm6y7c4NzyK"
      },
      "execution_count": null,
      "outputs": []
    },
    {
      "cell_type": "code",
      "source": [
        "List,counter,index,List[counter-1],questions[counter-1]"
      ],
      "metadata": {
        "id": "xa9XJfgAmC1D"
      },
      "execution_count": null,
      "outputs": []
    },
    {
      "cell_type": "code",
      "source": [
        " List"
      ],
      "metadata": {
        "id": "em5TKylEJyIP"
      },
      "execution_count": null,
      "outputs": []
    }
  ]
}